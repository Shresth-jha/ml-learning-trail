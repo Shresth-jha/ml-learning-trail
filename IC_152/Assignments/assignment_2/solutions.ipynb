{
 "cells": [
  {
   "cell_type": "markdown",
   "id": "75cf6060",
   "metadata": {},
   "source": [
    "# Assignment 2 Solutions\n",
    "This notebook contains solutions to all problems from Assignment 2."
   ]
  },
  {
   "cell_type": "markdown",
   "id": "cc1093df",
   "metadata": {},
   "source": [
    "## Problem 1\n",
    "1) Rotate a string to the left by a given number of positions.\n",
    "2) Check if one string is a substring of another.\n",
    "3) Replace all vowels in a string with '?'.\n",
    "4) Check if a string is a palindrome."
   ]
  },
  {
   "cell_type": "code",
   "execution_count": null,
   "id": "0e11ee93",
   "metadata": {},
   "outputs": [],
   "source": [
    "# 1) Rotate a string to the left by a given number of positions\n",
    "def rotate_left(s, n):\n",
    "    n = n % len(s)\n",
    "    return s[n:] + s[:n]\n",
    "input_str = input('Enter a string: ')\n",
    "positions = int(input('Enter number of positions to rotate left: '))\n",
    "print(rotate_left(input_str, positions))"
   ]
  },
  {
   "cell_type": "markdown",
   "id": "4ce5d275",
   "metadata": {},
   "source": [
    "This function rotates a string to the left by a specified number of positions. It uses slicing to rearrange the string and prints the rotated result based on user input."
   ]
  },
  {
   "cell_type": "code",
   "execution_count": null,
   "id": "811a5e3c",
   "metadata": {},
   "outputs": [],
   "source": [
    "# 2) Check if one string is a substring of another\n",
    "string_1 = input('Enter the first string: ')\n",
    "string_2 = input('Enter the second string: ')\n",
    "if string_2 in string_1:\n",
    "    print(f'{string_2} is a substring of {string_1}')\n",
    "else:\n",
    "    print(f'{string_2} is not a substring of {string_1}')"
   ]
  },
  {
   "cell_type": "markdown",
   "id": "79e69f77",
   "metadata": {},
   "source": [
    "This code checks if the second string entered by the user is a substring of the first string. It prints a message indicating whether the substring is found or not."
   ]
  },
  {
   "cell_type": "code",
   "execution_count": null,
   "id": "6a643095",
   "metadata": {},
   "outputs": [],
   "source": [
    "# 3) Replace all vowels in a string with '?'\n",
    "input_str = input('Enter a string: ')\n",
    "vowels = 'aeiouAEIOU'\n",
    "result = ''.join(['?' if c in vowels else c for c in input_str])\n",
    "print(result)"
   ]
  },
  {
   "cell_type": "markdown",
   "id": "87f6688c",
   "metadata": {},
   "source": [
    "This code replaces all vowels (both uppercase and lowercase) in the input string with a question mark ('?') using a list comprehension and prints the modified string."
   ]
  },
  {
   "cell_type": "code",
   "execution_count": null,
   "id": "55242356",
   "metadata": {},
   "outputs": [],
   "source": [
    "# 4) Check if a string is a palindrome\n",
    "input_str = input('Enter a string: ')\n",
    "cleaned_str = ''.join(input_str.split()).lower()\n",
    "if cleaned_str == cleaned_str[::-1]:\n",
    "    print('Palindrome')\n",
    "else:\n",
    "    print('Not a palindrome')"
   ]
  },
  {
   "cell_type": "markdown",
   "id": "8a8f9286",
   "metadata": {},
   "source": [
    "This code checks if the input string is a palindrome. It removes all spaces, converts the string to lowercase, and compares it to its reverse. It prints 'Palindrome' if true, otherwise 'Not a palindrome'."
   ]
  },
  {
   "cell_type": "markdown",
   "id": "a91f0212",
   "metadata": {},
   "source": [
    "## Problem 2\n",
    "Compare two strings and build a new string consisting of characters at even indices where both strings have the same character."
   ]
  },
  {
   "cell_type": "code",
   "execution_count": null,
   "id": "7497c6cd",
   "metadata": {},
   "outputs": [],
   "source": [
    "str1 = input('Enter first string: ')\n",
    "str2 = input('Enter second string: ')\n",
    "AnsStr = ''\n",
    "for i in range(0, len(str1)):\n",
    "    if i % 2 == 0 and str1[i] == str2[i]:\n",
    "        AnsStr += str1[i]\n",
    "print(AnsStr)"
   ]
  },
  {
   "cell_type": "markdown",
   "id": "62a0c23f",
   "metadata": {},
   "source": [
    "This code compares two strings entered by the user and constructs a new string containing characters at even indices where both strings have the same character at that index. The result is printed."
   ]
  },
  {
   "cell_type": "markdown",
   "id": "e4ed0e0d",
   "metadata": {},
   "source": [
    "## Problem 3\n",
    "Find the first index, last index, and total occurrences of a character in a string (case-insensitive)."
   ]
  },
  {
   "cell_type": "code",
   "execution_count": null,
   "id": "c8f4dc14",
   "metadata": {},
   "outputs": [],
   "source": [
    "# 3a) Using find(), rfind(), and slicing\n",
    "InputStr = input('Enter a string: ')\n",
    "InputChr = input('Enter a character: ').lower()\n",
    "lower_str = InputStr.lower()\n",
    "first = lower_str.find(InputChr)\n",
    "last = lower_str.rfind(InputChr)\n",
    "if first == -1:\n",
    "    print(-1)\n",
    "else:\n",
    "    total = lower_str[first:last+1].count(InputChr)\n",
    "    print(f'first index = {first}, last index = {last}, total occurrences = {total}')"
   ]
  },
  {
   "cell_type": "markdown",
   "id": "3ed4b1b9",
   "metadata": {},
   "source": [
    "This code finds the first index, last index, and total occurrences of a character (case-insensitive) in a string using built-in methods. It prints -1 if the character is not found, otherwise prints the indices and count."
   ]
  },
  {
   "cell_type": "code",
   "execution_count": null,
   "id": "089aea86",
   "metadata": {},
   "outputs": [],
   "source": [
    "# 3b) Without using find()/rfind(), single loop\n",
    "InputStr = input('Enter a string: ')\n",
    "InputChr = input('Enter a character: ').lower()\n",
    "lower_str = InputStr.lower()\n",
    "first = None\n",
    "last = None\n",
    "total = 0\n",
    "for i, c in enumerate(lower_str):\n",
    "    if c == InputChr:\n",
    "        if first is None:\n",
    "            first = i\n",
    "        last = i\n",
    "if first is None:\n",
    "    print(-1)\n",
    "else:\n",
    "    for i in range(first, last+1):\n",
    "        if lower_str[i] == InputChr:\n",
    "            total += 1\n",
    "    print(f'first index = {first}, last index = {last}, total occurrences = {total}')"
   ]
  },
  {
   "cell_type": "markdown",
   "id": "3fc6a523",
   "metadata": {},
   "source": [
    "This code finds the first and last index, and counts the total occurrences of a character in a string (case-insensitive) without using find()/rfind(). It uses a single loop to track indices and a second loop to count occurrences."
   ]
  },
  {
   "cell_type": "markdown",
   "id": "2a422f89",
   "metadata": {},
   "source": [
    "<!-- 3c) The approach using find()/rfind() and slicing is generally faster because it uses optimized built-in methods. -->"
   ]
  },
  {
   "cell_type": "markdown",
   "id": "7290085a",
   "metadata": {},
   "source": [
    "## Problem 4\n",
    "String replacements for the word 'people' in a sentence."
   ]
  },
  {
   "cell_type": "code",
   "execution_count": null,
   "id": "48c30912",
   "metadata": {},
   "outputs": [],
   "source": [
    "# 4.1) Successive replacements using replace()\n",
    "expr = 'In a Democracy, the government is of the people, by the people, and for the people, still people dont go out and vote'\n",
    "first = expr.replace('people', 'PEOPLE', 1)\n",
    "print(first)\n",
    "second = first.replace('people', 'pEOPLE', 2)\n",
    "print(second)\n",
    "third = second[::-1].replace('ELPOEp', 'peoPLE'[::-1], 1)[::-1]\n",
    "print(third)"
   ]
  },
  {
   "cell_type": "markdown",
   "id": "8f55209c",
   "metadata": {},
   "source": [
    "This code performs successive replacements of the word 'people' in a sentence using the replace() method. It demonstrates how to replace specific occurrences and manipulate the string in steps."
   ]
  },
  {
   "cell_type": "code",
   "execution_count": null,
   "id": "4f98edfb",
   "metadata": {},
   "outputs": [],
   "source": [
    "# 4.2) Using string slicing and for loop\n",
    "expr = 'In a Democracy, the government is of the people, by the people, and for the people, still people dont go out and vote'\n",
    "indices = []\n",
    "start = 0\n",
    "while True:\n",
    "    idx = expr.find('people', start)\n",
    "    if idx == -1:\n",
    "        break\n",
    "    indices.append(idx)\n",
    "    start = idx + 1\n",
    "expr_list = list(expr)\n",
    "replacements = ['PEOPLE', 'pEOPLE', 'pEOPLE', 'peoPLE']\n",
    "for i, idx in enumerate(indices):\n",
    "    if i < len(replacements):\n",
    "        expr_list[idx:idx+6] = list(replacements[i])\n",
    "print(''.join(expr_list))"
   ]
  },
  {
   "cell_type": "markdown",
   "id": "e69e1844",
   "metadata": {},
   "source": [
    "This code finds all occurrences of the word 'people' in a sentence and replaces each with a different variant using string slicing and a for loop. The result is printed after all replacements."
   ]
  },
  {
   "cell_type": "markdown",
   "id": "094b5dce",
   "metadata": {},
   "source": [
    "<!-- 4.3) The replace() method is generally faster as it is implemented in C and optimized for such operations. -->"
   ]
  },
  {
   "cell_type": "markdown",
   "id": "6de3428b",
   "metadata": {},
   "source": [
    "## Problem 5\n",
    "Auto-correct file content and save to outputClean.txt."
   ]
  },
  {
   "cell_type": "code",
   "execution_count": null,
   "id": "668c44a5",
   "metadata": {},
   "outputs": [],
   "source": [
    "import os\n",
    "input_path = os.path.expanduser('~') + '/Desktop/assignment2/inputWithErrors.txt'\n",
    "output_path = os.path.expanduser('~') + '/Desktop/assignment2/outputClean.txt'\n",
    "\n",
    "with open(input_path) as f:\n",
    "    lines = [line.rstrip() for line in f]\n",
    "\n",
    "corrected_lines = []\n",
    "for line in lines:\n",
    "    # Remove spaces before punctuation\n",
    "    for p in ['.', ',', ')', ':', ';', '?', '!']:\n",
    "        line = line.replace(' ' + p, p)\n",
    "    line = line.replace('(', ' (')\n",
    "    # Capitalize first letter of each sentence\n",
    "    sentences = [s.strip().capitalize() for s in line.split('.')]\n",
    "    # Remove empty sentences and join back\n",
    "    newline = '. '.join([s for s in sentences if s])\n",
    "    if not newline.endswith('.'):\n",
    "        newline += '.'\n",
    "    corrected_lines.append(newline)\n",
    "\n",
    "with open(output_path, 'w') as fOutput:\n",
    "    for i, newlineFinal in enumerate(corrected_lines):\n",
    "        if i < len(corrected_lines) - 1:\n",
    "            fOutput.write(newlineFinal + '\\n')\n",
    "        else:\n",
    "            fOutput.write(newlineFinal)"
   ]
  },
  {
   "cell_type": "markdown",
   "id": "7076b8d1",
   "metadata": {},
   "source": [
    "This code reads lines from an input file, removes spaces before punctuation, ensures proper sentence capitalization, and writes the cleaned text to an output file. It also ensures each sentence ends with a period."
   ]
  },
  {
   "cell_type": "markdown",
   "id": "08e1bdac",
   "metadata": {},
   "source": [
    "## Problem 6 (Optional/Bonus)\n",
    "Count vowels in a string."
   ]
  },
  {
   "cell_type": "code",
   "execution_count": null,
   "id": "f1669464",
   "metadata": {},
   "outputs": [],
   "source": [
    "string_1 = 'IIT Mandi Computer Science'\n",
    "vowels = 'aeiou'\n",
    "vowel_count = {v: 0 for v in vowels}\n",
    "for c in string_1.lower():\n",
    "    if c in vowels:\n",
    "        vowel_count[c] += 1\n",
    "for v in vowels:\n",
    "    print(f'{v}: {vowel_count[v]}')"
   ]
  },
  {
   "cell_type": "markdown",
   "id": "d59c773c",
   "metadata": {},
   "source": [
    "This code counts the number of each vowel (a, e, i, o, u) in the string 'IIT Mandi Computer Science' and prints the count for each vowel."
   ]
  },
  {
   "cell_type": "markdown",
   "id": "bd3b00fc",
   "metadata": {},
   "source": [
    "## Problem 7 (Optional/Bonus)\n",
    "Transliterate English to Hindi and save to file."
   ]
  },
  {
   "cell_type": "code",
   "execution_count": null,
   "id": "bf31d116",
   "metadata": {},
   "outputs": [],
   "source": [
    "engToHin = {'m': 'म्', 'a': 'अ', 'n': 'न्', 'd': 'द', 'i': 'इ', 'c': 'क', 'o': 'ओ', 'p': 'प', 't': 'ट', 'e': 'ए', 'r': 'र', 's': 'स', 'h': 'ह', 'l': 'ल', 'g': 'ग', 'b': 'ब', 'y': 'य', 'u': 'उ', 'v': 'व', 'f': 'फ', 'k': 'क', 't': 'त', 'j': 'ज'}\n",
    "input_path = os.path.expanduser('~') + '/Desktop/assignment2/hindiInEnglish.txt'\n",
    "output_path = os.path.expanduser('~') + '/Desktop/assignment2/hindiPure.txt'\n",
    "try:\n",
    "    with open(input_path, 'r', encoding='utf-8') as f:\n",
    "        lines = [line.rstrip() for line in f]\n",
    "    with open(output_path, 'w', encoding='utf-8') as fOut:\n",
    "        for line in lines:\n",
    "            result = ''\n",
    "            i = 0\n",
    "            while i < len(line):\n",
    "                if i+1 < len(line) and line[i:i+2] in engToHin:\n",
    "                    result += engToHin[line[i:i+2]]\n",
    "                    i += 2\n",
    "                elif line[i] in engToHin:\n",
    "                    result += engToHin[line[i]]\n",
    "                    i += 1\n",
    "                else:\n",
    "                    result += line[i]\n",
    "                    i += 1\n",
    "            fOut.write(result + '\\n')\n",
    "    print('Transliteration complete. Output saved to hindiPure.txt.')\n",
    "except FileNotFoundError:\n",
    "    print('Input file not found. Please check the path.')"
   ]
  },
  {
   "cell_type": "markdown",
   "id": "3bb162b0",
   "metadata": {},
   "source": [
    "This code transliterates English letters to Hindi script using a mapping dictionary. It reads from an input file, processes each line character by character (checking for 2-letter and 1-letter matches), and writes the transliterated result to an output file. It handles missing input files gracefully."
   ]
  }
 ],
 "metadata": {
  "kernelspec": {
   "display_name": "Python 3",
   "language": "python",
   "name": "python3"
  },
  "language_info": {
   "codemirror_mode": {
    "name": "ipython",
    "version": 3
   },
   "file_extension": ".py",
   "mimetype": "text/x-python",
   "name": "python",
   "nbconvert_exporter": "python",
   "pygments_lexer": "ipython3",
   "version": "3.12.3"
  }
 },
 "nbformat": 4,
 "nbformat_minor": 5
}
