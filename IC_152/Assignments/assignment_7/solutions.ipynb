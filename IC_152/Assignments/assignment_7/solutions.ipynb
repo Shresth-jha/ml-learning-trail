{
 "cells": [
  {
   "cell_type": "markdown",
   "id": "968ecf98",
   "metadata": {},
   "source": [
    "# Assignment: Algorithms and Python Code Solutions\n",
    "\n",
    "This notebook contains solutions to all questions in the assignment. For each question, the algorithm is written first (as markdown), followed by the Python code, and then an explanation of the logic and observations."
   ]
  },
  {
   "cell_type": "markdown",
   "id": "cf5d3d2c",
   "metadata": {},
   "source": [
    "## Question 1: Algorithm and Code Observation\n",
    "Write the algorithm for the following code using pen and paper. Then run the following code:\n",
    "\n",
    "```python\n",
    "x = 5\n",
    "y = x\n",
    "print(id(x), id(y))\n",
    "x = x + 1\n",
    "print(id(x), id(y))\n",
    "```\n",
    "Write down your observations and show them along with your group’s algorithm to TA during viva."
   ]
  },
  {
   "cell_type": "markdown",
   "id": "916dc718",
   "metadata": {},
   "source": [
    "### Algorithm for Question 1\n",
    "1. Assign the value 5 to variable x.\n",
    "2. Assign the value of x to variable y.\n",
    "3. Print the memory addresses (ids) of x and y.\n",
    "4. Increment x by 1 (x = x + 1).\n",
    "5. Print the memory addresses (ids) of x and y again."
   ]
  },
  {
   "cell_type": "code",
   "execution_count": 1,
   "id": "44cb2f28",
   "metadata": {},
   "outputs": [
    {
     "name": "stdout",
     "output_type": "stream",
     "text": [
      "11760808 11760808\n",
      "11760840 11760808\n"
     ]
    }
   ],
   "source": [
    "# Code for Question 1\n",
    "x = 5\n",
    "y = x\n",
    "print(id(x), id(y))\n",
    "x = x + 1\n",
    "print(id(x), id(y))"
   ]
  },
  {
   "cell_type": "markdown",
   "id": "ebaf71b1",
   "metadata": {},
   "source": [
    "### Logic and Observations\n",
    "- Initially, x and y both point to the same integer object (5), so their ids are the same.\n",
    "- After incrementing x, x now points to a new integer object (6), so its id changes, but y still points to 5."
   ]
  },
  {
   "cell_type": "markdown",
   "id": "27c53de8",
   "metadata": {},
   "source": [
    "## Question 2: Modify Code for List and Square Elements\n",
    "Modify the above code to take x as a list of integers and return a list with the square of elements in the original list x. Do you observe any changes in id with respect to the previous question? Write down the changes and show them to TA during viva."
   ]
  },
  {
   "cell_type": "markdown",
   "id": "5df9fe84",
   "metadata": {},
   "source": [
    "### Algorithm for Question 2\n",
    "1. Assign a list of integers to variable x.\n",
    "2. Assign x to y (so y refers to the same list as x).\n",
    "3. Print the ids of x and y.\n",
    "4. Create a new list by squaring each element of x and assign it to x.\n",
    "5. Print the ids of x and y again.\n",
    "6. Return or print the squared list."
   ]
  },
  {
   "cell_type": "code",
   "execution_count": 2,
   "id": "c1ebb160",
   "metadata": {},
   "outputs": [
    {
     "name": "stdout",
     "output_type": "stream",
     "text": [
      "135160801883264 135160801883264\n",
      "135160801882816 135160801883264\n",
      "[1, 4, 9]\n"
     ]
    }
   ],
   "source": [
    "# Code for Question 2\n",
    "x = [1, 2, 3]\n",
    "y = x\n",
    "print(id(x), id(y))\n",
    "x = [i**2 for i in x]\n",
    "print(id(x), id(y))\n",
    "print(x)"
   ]
  },
  {
   "cell_type": "markdown",
   "id": "8bc6770a",
   "metadata": {},
   "source": [
    "### Logic and Observations\n",
    "- Initially, x and y refer to the same list object, so their ids are the same.\n",
    "- After assigning a new list to x (with squared values), x now refers to a new list object, so its id changes, but y still refers to the original list.\n",
    "- This is similar to the behavior observed with integers in Question 1."
   ]
  },
  {
   "cell_type": "markdown",
   "id": "2ded178f",
   "metadata": {},
   "source": [
    "## Question 3: Hypotenuse Calculation\n",
    "Write the algorithm and a python function f(p, b) that takes perpendicular p and base b of a right angled triangle and returns its hypotenuse h.\n",
    "- a. First write the algorithm. Show your group’s algorithm to TA during viva.\n",
    "- b. Write the python code and run it for different cases.\n",
    "- c. Modify the above program for b = 5 as default value of base, when it is not given by the user."
   ]
  },
  {
   "cell_type": "markdown",
   "id": "36317b38",
   "metadata": {},
   "source": [
    "### Algorithm for Question 3\n",
    "1. Take input values for perpendicular (p) and base (b).\n",
    "2. Calculate the hypotenuse using the formula: h = sqrt(p^2 + b^2).\n",
    "3. Return or print the value of h.\n",
    "4. (For part c) If base is not provided, use b = 5 by default."
   ]
  },
  {
   "cell_type": "code",
   "execution_count": null,
   "id": "8f0fad7e",
   "metadata": {},
   "outputs": [],
   "source": [
    "# Code for Question 3\n",
    "import math\n",
    "\n",
    "def f(p, b=5):\n",
    "    return math.sqrt(p**2 + b**2)\n",
    "\n",
    "# Test cases\n",
    "print(f(3, 4))  # Should print 5.0\n",
    "print(f(6, 8))  # Should print 10.0\n",
    "print(f(12))    # Should use default b=5"
   ]
  },
  {
   "cell_type": "markdown",
   "id": "5a9a78d2",
   "metadata": {},
   "source": [
    "### Logic and Observations\n",
    "- The function uses the Pythagorean theorem to compute the hypotenuse.\n",
    "- The default value for base is set to 5 if not provided."
   ]
  },
  {
   "cell_type": "markdown",
   "id": "f58896c5",
   "metadata": {},
   "source": [
    "## Question 4: Frequency Table for List\n",
    "Create a list l = [0, 2, 1, 2, 0, 5, 5, 0, 1, 3, 2, 0, 1, 2, 0] in python. Write a python code (using sorting and a loop) to print the frequency table for the values in list l in a nice format as shown in the example below:\n",
    "\n",
    "|  V  |  F  |\n",
    "|  1  |  3  |\n",
    "|  2  |  2  |\n",
    "\n",
    "a. First write the algorithm. Show your group’s algorithm to TA during viva.\n",
    "b. Then write the python code."
   ]
  },
  {
   "cell_type": "markdown",
   "id": "f09bf446",
   "metadata": {},
   "source": [
    "### Algorithm for Question 4\n",
    "1. Create the list l.\n",
    "2. Sort the list l.\n",
    "3. Initialize an empty dictionary freq.\n",
    "4. For each value in l, increment its count in freq.\n",
    "5. Print the frequency table in the required format."
   ]
  },
  {
   "cell_type": "code",
   "execution_count": 4,
   "id": "7adcf477",
   "metadata": {},
   "outputs": [
    {
     "name": "stdout",
     "output_type": "stream",
     "text": [
      "|  V  |  F  |\n",
      "|  0  |  5  |\n",
      "|  1  |  3  |\n",
      "|  2  |  4  |\n",
      "|  3  |  1  |\n",
      "|  5  |  2  |\n"
     ]
    }
   ],
   "source": [
    "# Code for Question 4\n",
    "l = [0, 2, 1, 2, 0, 5, 5, 0, 1, 3, 2, 0, 1, 2, 0]\n",
    "l_sorted = sorted(l)\n",
    "freq = {}\n",
    "for val in l_sorted:\n",
    "    freq[val] = freq.get(val, 0) + 1\n",
    "print(\"|  V  |  F  |\")\n",
    "for v in sorted(freq):\n",
    "    print(f\"|  {v}  |  {freq[v]}  |\")"
   ]
  },
  {
   "cell_type": "markdown",
   "id": "f6714c76",
   "metadata": {},
   "source": [
    "### Logic and Observations\n",
    "- The code sorts the list and counts the frequency of each value using a dictionary.\n",
    "- The frequency table is printed in a readable format."
   ]
  },
  {
   "cell_type": "markdown",
   "id": "9ee57d88",
   "metadata": {},
   "source": [
    "## Question 5: Frequency Table with Binning\n",
    "Write the algorithm and python code to print the frequency table of the following data, use bin size of 10:\n",
    "\n",
    "data = [12, 25, 37, 45, 52, 68, 73, 81, 90, 95, 100, 105, 110, 115, 120]\n",
    "\n",
    "a. First write the algorithm. Show your group’s algorithm to TA during viva.\n",
    "b. Then write the python code."
   ]
  },
  {
   "cell_type": "markdown",
   "id": "c2347b47",
   "metadata": {},
   "source": [
    "### Algorithm for Question 5\n",
    "1. Create the data list.\n",
    "2. Set the bin size (e.g., 10).\n",
    "3. Find the minimum and maximum values in the data.\n",
    "4. Create bins from min to max with the given bin size.\n",
    "5. Initialize a frequency dictionary for bins.\n",
    "6. For each value in data, determine its bin and increment the count.\n",
    "7. Print the frequency table for bins."
   ]
  },
  {
   "cell_type": "code",
   "execution_count": null,
   "id": "4209c671",
   "metadata": {},
   "outputs": [
    {
     "name": "stdout",
     "output_type": "stream",
     "text": [
      "|  Bin  |  F  |\n",
      "| 10-19 | 1 |\n",
      "| 20-29 | 1 |\n",
      "| 30-39 | 1 |\n",
      "| 40-49 | 1 |\n",
      "| 50-59 | 1 |\n",
      "| 60-69 | 1 |\n",
      "| 70-79 | 1 |\n",
      "| 80-89 | 1 |\n",
      "| 90-99 | 2 |\n",
      "| 100-109 | 2 |\n",
      "| 110-119 | 2 |\n",
      "| 120-129 | 1 |\n"
     ]
    }
   ],
   "source": [
    "# Code for Question 5\n",
    "data = [12, 25, 37, 45, 52, 68, 73, 81, 90, 95, 100, 105, 110, 115, 120]\n",
    "bin_size = 10\n",
    "min_val = min(data)\n",
    "max_val = max(data)\n",
    "bins = list(range((min_val//bin_size)*bin_size, ((max_val//bin_size)+1)*bin_size+1, bin_size))\n",
    "freq = {}\n",
    "for start in bins[:-1]:\n",
    "    label = f\"{start}-{start + bin_size - 1}\"\n",
    "    freq[label] = 0\n",
    "for val in data:\n",
    "    for b in bins[:-1]:\n",
    "        if b <= val < b+bin_size:\n",
    "            freq[f\"{b}-{b+bin_size-1}\"] += 1\n",
    "            break\n",
    "print(\"|  Bin  |  F  |\")\n",
    "for bin_label in freq:\n",
    "    print(f\"| {bin_label} | {freq[bin_label]} |\")"
   ]
  },
  {
   "cell_type": "markdown",
   "id": "8e5ef3b6",
   "metadata": {},
   "source": [
    "### Logic and Observations\n",
    "- The code creates bins of size 10 and counts how many values fall into each bin.\n",
    "- The frequency table is printed for each bin."
   ]
  },
  {
   "cell_type": "markdown",
   "id": "7dfd38e8",
   "metadata": {},
   "source": [
    "## Question 6: Relative Frequencies for Q4 and Q5\n",
    "Update Q4 and Q5 code to print relative frequencies."
   ]
  },
  {
   "cell_type": "code",
   "execution_count": null,
   "id": "ce4dfd38",
   "metadata": {},
   "outputs": [],
   "source": [
    "# Code for Question 6a (Q4 with relative frequencies)\n",
    "l = [0, 2, 1, 2, 0, 5, 5, 0, 1, 3, 2, 0, 1, 2, 0]\n",
    "l_sorted = sorted(l)\n",
    "freq = {}\n",
    "for val in l_sorted:\n",
    "    freq[val] = freq.get(val, 0) + 1\n",
    "total = len(l)\n",
    "print(\"|  V  |  F  |  RelFreq  |\")\n",
    "for v in sorted(freq):\n",
    "    rel_freq = freq[v] / total\n",
    "    print(f\"|  {v}  |  {freq[v]}  |  {rel_freq:.2f}  |\")\n",
    "\n",
    "# Code for Question 6b (Q5 with relative frequencies)\n",
    "data = [12, 25, 37, 45, 52, 68, 73, 81, 90, 95, 100, 105, 110, 115, 120]\n",
    "bin_size = 10\n",
    "min_val = min(data)\n",
    "max_val = max(data)\n",
    "bins = list(range((min_val//bin_size)*bin_size, ((max_val//bin_size)+1)*bin_size+1, bin_size))\n",
    "freq = {f\"{b}-{b+bin_size-1}\": 0 for b in bins[:-1]}\n",
    "for val in data:\n",
    "    for b in bins[:-1]:\n",
    "        if b <= val < b+bin_size:\n",
    "            freq[f\"{b}-{b+bin_size-1}\"] += 1\n",
    "            break\n",
    "total = len(data)\n",
    "print(\"|  Bin  |  F  |  RelFreq  |\")\n",
    "for bin_label in freq:\n",
    "    rel_freq = freq[bin_label] / total\n",
    "    print(f\"| {bin_label} | {freq[bin_label]} | {rel_freq:.2f} |\")"
   ]
  },
  {
   "cell_type": "markdown",
   "id": "2ebac29c",
   "metadata": {},
   "source": [
    "### Logic and Observations\n",
    "- The code for both Q4 and Q5 is updated to print relative frequencies (frequency divided by total count).\n",
    "- This helps in understanding the proportion of each value or bin in the dataset."
   ]
  }
 ],
 "metadata": {
  "kernelspec": {
   "display_name": "Python 3",
   "language": "python",
   "name": "python3"
  },
  "language_info": {
   "codemirror_mode": {
    "name": "ipython",
    "version": 3
   },
   "file_extension": ".py",
   "mimetype": "text/x-python",
   "name": "python",
   "nbconvert_exporter": "python",
   "pygments_lexer": "ipython3",
   "version": "3.12.3"
  }
 },
 "nbformat": 4,
 "nbformat_minor": 5
}
