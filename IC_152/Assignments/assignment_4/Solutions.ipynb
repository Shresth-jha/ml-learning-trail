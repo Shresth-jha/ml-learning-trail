{
 "cells": [
  {
   "cell_type": "markdown",
   "id": "43b4dd34",
   "metadata": {},
   "source": [
    "# List and Polynomial Problems: Solutions\n",
    "\n",
    "This notebook provides solutions to various problems involving lists and polynomials, including searching, sorting, rotation, cumulative operations, polynomial evaluation, and matrix manipulations. Each section contains a clear explanation and Python code for the respective problem."
   ]
  },
  {
   "cell_type": "markdown",
   "id": "2bd5aad3",
   "metadata": {},
   "source": [
    "## Problem 2: Find All Occurrences of an Element in a List\n",
    "\n",
    "**Task:** Write a function that takes a list and an integer `k`, and returns a list of all indices where `k` appears. If `k` does not exist, return an empty list.\n",
    "\n",
    "**Example:**\n",
    "- Input: `[10, 20, 10, 30, 10]`, `k = 10`\n",
    "- Output: `[0, 2, 4]`\n",
    "\n",
    "**Algorithm:**\n",
    "1. Take a list of integers and the integer `k` as input.\n",
    "2. Loop through the list and collect indices where the element equals `k`.\n",
    "3. Return the list of indices (empty if `k` not found)."
   ]
  },
  {
   "cell_type": "code",
   "execution_count": null,
   "id": "6eb617b4",
   "metadata": {},
   "outputs": [],
   "source": [
    "def find_all_occurrences(lst, k):\n",
    "    \"\"\"Return a list of all indices where k appears in lst.\"\"\"\n",
    "    return [i for i, val in enumerate(lst) if val == k]\n",
    "\n",
    "# Example usage:\n",
    "input_list = [10, 20, 10, 30, 10]\n",
    "k = 10\n",
    "print(find_all_occurrences(input_list, k))  # Output: [0, 2, 4]"
   ]
  },
  {
   "cell_type": "markdown",
   "id": "7d027d1f",
   "metadata": {},
   "source": [
    "### Logic Explanation\n",
    "The function uses a list comprehension with `enumerate` to iterate through the list, checking if each value equals `k`. If so, it appends the index to the result list. This efficiently collects all indices where `k` appears."
   ]
  },
  {
   "cell_type": "markdown",
   "id": "d6728d1e",
   "metadata": {},
   "source": [
    "## Problem 2a: Sort List by Distance from Mean\n",
    "\n",
    "**Task:** Write a function that sorts a list by the absolute distance of its elements from the mean. If two elements have the same distance, the smaller one comes first.\n",
    "\n",
    "**Example:**\n",
    "- Input: `[5, 10, 20, 25, 40]`\n",
    "- Output: `[20, 25, 10, 5, 40]`\n",
    "\n",
    "**Algorithm:**\n",
    "1. Calculate the mean of the list.\n",
    "2. Sort the list by absolute distance from the mean, breaking ties by value."
   ]
  },
  {
   "cell_type": "code",
   "execution_count": null,
   "id": "e4e37e08",
   "metadata": {},
   "outputs": [],
   "source": [
    "def sort_by_distance_from_mean(lst):\n",
    "    if not lst:\n",
    "        return lst\n",
    "    mean = sum(lst) / len(lst)\n",
    "    # Create a dictionary where key is the number and value is its distance from mean\n",
    "    num_dist_dict = {num: abs(num - mean) for num in lst}\n",
    "    # Sort by distance, then by value for ties\n",
    "    sorted_list = sorted(lst, key=lambda x: (num_dist_dict[x], x))\n",
    "    return sorted_list\n",
    "\n",
    "# Example usage:\n",
    "input_list = [5, 10, 20, 25, 40]\n",
    "print(sort_by_distance_from_mean(input_list))  # Output: [20, 25, 10, 5, 40]"
   ]
  },
  {
   "cell_type": "markdown",
   "id": "5937cc4d",
   "metadata": {},
   "source": [
    "### Logic Explanation\n",
    "The function first calculates the mean of the list. It then sorts the list using a custom key: a tuple of the absolute distance from the mean and the value itself. This ensures elements closer to the mean come first, and ties are broken by the element's value."
   ]
  },
  {
   "cell_type": "markdown",
   "id": "e84a28c9",
   "metadata": {},
   "source": [
    "## Problem 2b: Rotate List to the Left by k Positions\n",
    "\n",
    "**Task:** Write a function that rotates a list to the left by `k` positions. Use slicing and handle cases where `k` is larger than the list length.\n",
    "\n",
    "**Example:**\n",
    "- Input: `[1, 2, 3, 4, 5]`, `k = 2`\n",
    "- Output: `[3, 4, 5, 1, 2]`\n",
    "\n",
    "**Algorithm:**\n",
    "1. Use `k % len(lst)` to handle large `k`.\n",
    "2. Slice and concatenate the list accordingly."
   ]
  },
  {
   "cell_type": "code",
   "execution_count": null,
   "id": "3ff05a46",
   "metadata": {},
   "outputs": [],
   "source": [
    "def rotate_left(lst, k):\n",
    "    if not lst:\n",
    "        return lst\n",
    "    k = k % len(lst)\n",
    "    return lst[k:] + lst[:k]\n",
    "\n",
    "# Example usage:\n",
    "input_list = [1, 2, 3, 4, 5]\n",
    "k = 2\n",
    "print(rotate_left(input_list, k))  # Output: [3, 4, 5, 1, 2]"
   ]
  },
  {
   "cell_type": "markdown",
   "id": "3c90b098",
   "metadata": {},
   "source": [
    "### Logic Explanation\n",
    "The function handles empty lists and uses `k % len(lst)` to ensure the rotation wraps around for large `k`. It slices the list at position `k` and concatenates the two parts, effectively rotating the list to the left by `k` positions."
   ]
  },
  {
   "cell_type": "markdown",
   "id": "279be964",
   "metadata": {},
   "source": [
    "## Problem 2c: Cumulative Product of List Elements\n",
    "\n",
    "**Task:** Write a function that computes the cumulative product of a list's elements and returns a new list with the results.\n",
    "\n",
    "**Example:**\n",
    "- Input: `[1, 2, 3, 4]`\n",
    "- Output: `[1, 2, 6, 24]`\n",
    "\n",
    "**Algorithm:**\n",
    "1. Initialize a result list with the first element.\n",
    "2. Multiply each subsequent element by the previous product."
   ]
  },
  {
   "cell_type": "code",
   "execution_count": null,
   "id": "ecff5c5d",
   "metadata": {},
   "outputs": [],
   "source": [
    "def cumulative_product(lst):\n",
    "    if not lst:\n",
    "        return lst\n",
    "    result = [lst[0]]\n",
    "    for i in range(1, len(lst)):\n",
    "        result.append(result[-1] * lst[i])\n",
    "    return result\n",
    "\n",
    "# Example usage:\n",
    "input_list = [1, 2, 3, 4]\n",
    "print(cumulative_product(input_list))  # Output: [1, 2, 6, 24]"
   ]
  },
  {
   "cell_type": "markdown",
   "id": "151eea0d",
   "metadata": {},
   "source": [
    "### Logic Explanation\n",
    "The function initializes the result list with the first element. For each subsequent element, it multiplies the last value in the result list by the current element and appends the product. This builds the cumulative product step by step."
   ]
  },
  {
   "cell_type": "markdown",
   "id": "80bef565",
   "metadata": {},
   "source": [
    "## Problem 3a: Coefficient of a Polynomial Degree\n",
    "\n",
    "**Task:** Write a function that takes a list of polynomial coefficients and an integer `n`, and returns the coefficient of the nth degree term.\n",
    "\n",
    "**Example:**\n",
    "- Input: `[2, 5, 0, 1]`, `n = 2` (represents 2x³ + 5x² + 0x + 1)\n",
    "- Output: `5`\n",
    "\n",
    "**Algorithm:**\n",
    "1. If `n >= len(coeffs)`, return 0.\n",
    "2. Otherwise, return `coeffs[-(n+1)]`."
   ]
  },
  {
   "cell_type": "code",
   "execution_count": 20,
   "id": "cd927a52",
   "metadata": {},
   "outputs": [
    {
     "name": "stdout",
     "output_type": "stream",
     "text": [
      "5\n"
     ]
    }
   ],
   "source": [
    "def get_coefficient(coeffs, n):\n",
    "    if n >= len(coeffs):\n",
    "        return 0\n",
    "    return coeffs[::-1][n]\n",
    "\n",
    "# Example usage:\n",
    "coeffs = [2, 5, 0, 1]\n",
    "n = 2\n",
    "print(get_coefficient(coeffs, n))  # Output: 5\n"
   ]
  },
  {
   "cell_type": "markdown",
   "id": "e686e784",
   "metadata": {},
   "source": [
    "### Logic Explanation\n",
    "The function checks if the requested degree `n` is within the bounds of the coefficient list. If so, it returns the coefficient at the correct position using negative indexing; otherwise, it returns 0."
   ]
  },
  {
   "cell_type": "markdown",
   "id": "bbc3ccac",
   "metadata": {},
   "source": [
    "## Problem 3b: Evaluate Polynomial for a Given x\n",
    "\n",
    "**Task:** Write a function that evaluates the polynomial `f(x) = 4x³ - 6x² + 0x - 1` for a given `x`.\n",
    "\n",
    "**Algorithm:**\n",
    "1. Take `x` as input.\n",
    "2. Compute `f(x) = 4*x**3 - 6*x**2 + 0*x - 1`."
   ]
  },
  {
   "cell_type": "code",
   "execution_count": 21,
   "id": "f16e02e7",
   "metadata": {},
   "outputs": [
    {
     "name": "stdout",
     "output_type": "stream",
     "text": [
      "7\n"
     ]
    }
   ],
   "source": [
    "def evaluate_polynomial(x):\n",
    "    return 4 * x**3 - 6 * x**2 + 0 * x - 1\n",
    "\n",
    "# Example usage:\n",
    "x = 2\n",
    "print(evaluate_polynomial(x))  # Output: 7"
   ]
  },
  {
   "cell_type": "markdown",
   "id": "c9d6c0fb",
   "metadata": {},
   "source": [
    "### Logic Explanation\n",
    "The function directly applies the formula `4*x**3 - 6*x**2 + 0*x - 1` to the input value `x` and returns the result. Each term is calculated using Python's exponentiation and arithmetic operators."
   ]
  },
  {
   "cell_type": "markdown",
   "id": "c203f389",
   "metadata": {},
   "source": [
    "## Problem 3c: Sum of Two Polynomials\n",
    "\n",
    "**Task:** Write a function that takes two lists of polynomial coefficients and returns their sum as a new polynomial.\n",
    "\n",
    "**Example:**\n",
    "- Input: `[2, 3, -10]` (2x² + 3x - 10), `[4, 0, 1, 2, 1]` (4x⁴ + 1x² + 2x + 1)\n",
    "- Output: `f(x) = 4x⁴ + 3x² + 3x + 2x + -9` (formatted as a polynomial)\n",
    "\n",
    "**Algorithm:**\n",
    "1. Reverse both lists.\n",
    "2. Add corresponding coefficients.\n",
    "3. Append remaining coefficients from the longer list.\n",
    "4. Reverse the result and format as a polynomial string."
   ]
  },
  {
   "cell_type": "code",
   "execution_count": null,
   "id": "1b2a0f73",
   "metadata": {},
   "outputs": [],
   "source": [
    "def sum_polynomials(p1, p2):\n",
    "    l1 = p1[::-1]\n",
    "    l2 = p2[::-1]\n",
    "    n1, n2 = len(l1), len(l2)\n",
    "    n = max(n1, n2)\n",
    "    result = []\n",
    "    for i in range(n):\n",
    "        coeff1 = l1[i] if i < n1 else 0\n",
    "        coeff2 = l2[i] if i < n2 else 0\n",
    "        result.append(coeff1 + coeff2)\n",
    "    result = result[::-1]\n",
    "    # Format as polynomial string\n",
    "    terms = []\n",
    "    degree = len(result) - 1\n",
    "    for i, coeff in enumerate(result):\n",
    "        if coeff == 0:\n",
    "            continue\n",
    "        if degree - i == 0:\n",
    "            terms.append(f\"{coeff}\")\n",
    "        elif degree - i == 1:\n",
    "            terms.append(f\"{coeff}x\")\n",
    "        else:\n",
    "            terms.append(f\"{coeff}x^{degree - i}\")\n",
    "    return \"f(x) = \" + \" + \".join(terms) if terms else \"f(x) = 0\"\n",
    "\n",
    "# Example usage:\n",
    "p1 = [2, 3, -10]\n",
    "p2 = [4, 0, 1, 2, 1]\n",
    "print(sum_polynomials(p1, p2))"
   ]
  },
  {
   "cell_type": "markdown",
   "id": "f9fdf619",
   "metadata": {},
   "source": [
    "### Logic Explanation\n",
    "The function reverses both input lists to align the lowest degree terms. It then adds corresponding coefficients, handling different lengths by padding with zeros. The result is reversed back, and a formatted string is built to represent the polynomial."
   ]
  },
  {
   "cell_type": "markdown",
   "id": "dcd309e8",
   "metadata": {},
   "source": [
    "## Problem 4a: Maximum of Three Consecutive Numbers\n",
    "\n",
    "**Task:** Write a function that takes a list and returns a new list containing the maximum of every three consecutive numbers.\n",
    "\n",
    "**Example:**\n",
    "- Input: `[1, 34, 3, 2, 5]`\n",
    "- Output: `[34, 34, 5]`\n",
    "\n",
    "**Algorithm:**\n",
    "1. For each window of three consecutive elements, find the maximum and store it in a new list."
   ]
  },
  {
   "cell_type": "code",
   "execution_count": 22,
   "id": "ae75927f",
   "metadata": {},
   "outputs": [
    {
     "name": "stdout",
     "output_type": "stream",
     "text": [
      "[34, 34, 5]\n"
     ]
    }
   ],
   "source": [
    "def max_of_three_consecutive(numList):\n",
    "    return [max(numList[i:i+3]) for i in range(len(numList)-2)] if len(numList) >= 3 else []\n",
    "\n",
    "# Example usage:\n",
    "numList = [1, 34, 3, 2, 5]\n",
    "print(max_of_three_consecutive(numList))  # Output: [34, 34, 5]"
   ]
  },
  {
   "cell_type": "markdown",
   "id": "c109e262",
   "metadata": {},
   "source": [
    "### Logic Explanation\n",
    "The function uses a list comprehension to iterate over all windows of three consecutive elements in the list, applying the `max` function to each window. If the list has fewer than three elements, it returns an empty list."
   ]
  },
  {
   "cell_type": "markdown",
   "id": "09dd7294",
   "metadata": {},
   "source": [
    "## Problem 4b: Input and Print a 2D Matrix\n",
    "\n",
    "**Task:** Write a program to input a 2D matrix from the user and print it in a tabular format.\n",
    "\n",
    "**Algorithm:**\n",
    "1. Input the number of rows and columns.\n",
    "2. Input each row as a list.\n",
    "3. Print the matrix in tabular form."
   ]
  },
  {
   "cell_type": "code",
   "execution_count": null,
   "id": "e8b670eb",
   "metadata": {},
   "outputs": [],
   "source": [
    "def input_and_print_matrix():\n",
    "    n = int(input(\"Enter number of rows: \"))\n",
    "    m = int(input(\"Enter number of columns: \"))\n",
    "    matrix = []\n",
    "    for i in range(n):\n",
    "        row = list(map(int, input(f\"Enter row {i+1} (space-separated): \").split()))\n",
    "        matrix.append(row)\n",
    "    print(\"Matrix:\")\n",
    "    for row in matrix:\n",
    "        print(' '.join(map(str, row)))\n",
    "\n",
    "# Uncomment to use interactively\n",
    "# input_and_print_matrix()"
   ]
  },
  {
   "cell_type": "markdown",
   "id": "283b4f14",
   "metadata": {},
   "source": [
    "Using Another method Nested loop"
   ]
  },
  {
   "cell_type": "code",
   "execution_count": null,
   "id": "bdc4d36f",
   "metadata": {},
   "outputs": [],
   "source": [
    "def input_and_print_matrix_nested():\n",
    "    n = int(input(\"Enter number of rows: \"))\n",
    "    m = int(input(\"Enter number of columns: \"))\n",
    "    matrix = []\n",
    "    for i in range(n):\n",
    "        row = []\n",
    "        for j in range(m):\n",
    "            val = int(input(f\"Enter value for row {i+1}, column {j+1}: \"))\n",
    "            row.append(val)\n",
    "        matrix.append(row)\n",
    "    print(\"Matrix:\")\n",
    "    for i in range(n):\n",
    "        for j in range(m):\n",
    "            print(matrix[i][j], end=' ')\n",
    "        print()\n",
    "\n",
    "# Example usage (uncomment to use interactively):\n",
    "# input_and_print_matrix_nested()"
   ]
  },
  {
   "cell_type": "markdown",
   "id": "6176d81d",
   "metadata": {},
   "source": [
    "### Logic Explanation\n",
    "The function prompts the user for the number of rows and columns, then reads each row as a list of integers. It stores the rows in a list of lists and prints each row in a tabular format for easy visualization."
   ]
  },
  {
   "cell_type": "markdown",
   "id": "c7f46cb4",
   "metadata": {},
   "source": [
    "## Problem 4c: Maximum of Three Consecutive Numbers in a 2D List\n",
    "\n",
    "**Task:** Write a function that takes a 2D list and returns a new 2D list containing the maximum of every three consecutive numbers for each row. If the number of columns is less than 3, return an empty list.\n",
    "\n",
    "**Example:**\n",
    "- Input: `[[1, 4, 2], [9, 11, 10], [19, 5, 12]]`\n",
    "- Output: `[[4], [11], [19]]`\n",
    "\n",
    "**Algorithm:**\n",
    "1. For each row, apply the function from Problem 4a if the row has at least 3 elements."
   ]
  },
  {
   "cell_type": "code",
   "execution_count": null,
   "id": "dc2c06fb",
   "metadata": {},
   "outputs": [],
   "source": [
    "def max_of_three_consecutive_2d(num2DList):\n",
    "    if not num2DList or len(num2DList[0]) < 3:\n",
    "        return []\n",
    "    return [[max(row[i:i+3]) for i in range(len(row)-2)] for row in num2DList]\n",
    "\n",
    "# Example usage:\n",
    "num2DList = [[1, 4, 2], [9, 11, 10], [19, 5, 12]]\n",
    "print(max_of_three_consecutive_2d(num2DList))  # Output: [[4], [11], [19]]"
   ]
  },
  {
   "cell_type": "markdown",
   "id": "3842fcca",
   "metadata": {},
   "source": [
    "### Logic Explanation\n",
    "The function checks if the 2D list is valid and has at least three columns. For each row, it applies the logic from Problem 4a to find the maximum of every three consecutive numbers, returning a new 2D list with the results."
   ]
  },
  {
   "cell_type": "markdown",
   "id": "260e99a2",
   "metadata": {},
   "source": [
    "## Bonus: Find Roots of a Polynomial\n",
    "\n",
    "**Task:** Write a program to find the roots of a given polynomial using a numerical method or library function.\n",
    "\n",
    "**Algorithm:**\n",
    "1. Use `numpy.roots` to find the roots of a polynomial given its coefficients."
   ]
  },
  {
   "cell_type": "code",
   "execution_count": null,
   "id": "6d87b227",
   "metadata": {},
   "outputs": [],
   "source": [
    "import numpy as np\n",
    "\n",
    "def find_roots(coeffs):\n",
    "    \"\"\"Return the roots of a polynomial with given coefficients.\"\"\"\n",
    "    return np.roots(coeffs)\n",
    "\n",
    "# Example usage:\n",
    "coeffs = [1, -6, 11, -6]  # Roots are 1, 2, 3 for x^3 - 6x^2 + 11x - 6\n",
    "print(find_roots(coeffs))"
   ]
  },
  {
   "cell_type": "markdown",
   "id": "d3e26dd6",
   "metadata": {},
   "source": [
    "### Logic Explanation\n",
    "The function uses `numpy.roots`, which computes the roots of a polynomial with given coefficients. The coefficients are passed in decreasing order of degree, and the function returns all (real and complex) roots."
   ]
  }
 ],
 "metadata": {
  "kernelspec": {
   "display_name": "Python 3",
   "language": "python",
   "name": "python3"
  },
  "language_info": {
   "codemirror_mode": {
    "name": "ipython",
    "version": 3
   },
   "file_extension": ".py",
   "mimetype": "text/x-python",
   "name": "python",
   "nbconvert_exporter": "python",
   "pygments_lexer": "ipython3",
   "version": "3.12.3"
  }
 },
 "nbformat": 4,
 "nbformat_minor": 5
}
