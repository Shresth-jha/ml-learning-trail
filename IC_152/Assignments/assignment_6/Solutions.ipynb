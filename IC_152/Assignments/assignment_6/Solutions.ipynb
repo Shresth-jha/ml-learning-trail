{
 "cells": [
  {
   "cell_type": "markdown",
   "id": "f08a74b0",
   "metadata": {},
   "source": [
    "# Assignment 6 Solutions\n",
    "\n",
    "This notebook contains solutions to all problems from Assignment 6. Each problem is presented with a markdown cell describing the question, followed by a code cell with the solution, and a markdown cell explaining the logic."
   ]
  },
  {
   "cell_type": "markdown",
   "id": "af542e7c",
   "metadata": {},
   "source": [
    "## Problem 1: Nested Function and Scope\n",
    "Given the code:\n",
    "\n",
    "def sumab(a):\n",
    "    def sumb(b):\n",
    "        return a + b\n",
    "    return sumb\n",
    "\n",
    "f = sumab(20)\n",
    "print(f(10))\n",
    "\n",
    "a) Write an algorithm of above code with a clear step by step understanding of what it is doing.\n",
    "b) Also comment about the scope of variable a in the function sumb()."
   ]
  },
  {
   "cell_type": "code",
   "execution_count": 3,
   "id": "2fa54714",
   "metadata": {},
   "outputs": [
    {
     "name": "stdout",
     "output_type": "stream",
     "text": [
      "30\n"
     ]
    }
   ],
   "source": [
    "# Solution code for Problem 1 goes here\n",
    "def sumab(a):\n",
    "    def sumb(b):\n",
    "        return a + b\n",
    "    return sumb\n",
    "\n",
    "f = sumab(20)\n",
    "print(f(10))  # Output: 30"
   ]
  },
  {
   "cell_type": "markdown",
   "id": "1f38fb5a",
   "metadata": {},
   "source": [
    "### Logic Explanation\n",
    "- The function `sumab(a)` returns another function `sumb(b)` that adds `a` and `b`.\n",
    "- When `f = sumab(20)` is called, `f` becomes a function that adds 20 to its argument.\n",
    "- `f(10)` returns 30.\n",
    "- The variable `a` is captured from the enclosing scope of `sumab` and is accessible inside `sumb` due to Python's closure property."
   ]
  },
  {
   "cell_type": "markdown",
   "id": "1aadcd2c",
   "metadata": {},
   "source": [
    "## Problem 2: Custom cos() and sin() using nested function\n",
    "Using math.sin() from the math library and modifying the nested function in question 1, implement your own version of cos() and sin() via nested call as described."
   ]
  },
  {
   "cell_type": "code",
   "execution_count": 4,
   "id": "406c203f",
   "metadata": {},
   "outputs": [
    {
     "name": "stdout",
     "output_type": "stream",
     "text": [
      "cos(0): 1.0\n",
      "sin(0): 1.2246467991473532e-16\n"
     ]
    }
   ],
   "source": [
    "# Solution code for Problem 2 goes here\n",
    "import math\n",
    "\n",
    "def shifted_sin(shift):\n",
    "    def inner(x):\n",
    "        return math.sin(x + shift)\n",
    "    return inner\n",
    "\n",
    "cos_func = shifted_sin(math.pi/2)\n",
    "sin_func = shifted_sin(math.pi)\n",
    "print(\"cos(0):\", cos_func(0))  # Should be close to 1.0\n",
    "print(\"sin(0):\", sin_func(0))  # Should be close to 0.0"
   ]
  },
  {
   "cell_type": "markdown",
   "id": "515a5ade",
   "metadata": {},
   "source": [
    "### Logic Explanation\n",
    "- The outer function `shifted_sin(shift)` returns a function that computes `sin(x + shift)`.\n",
    "- For cosine, the shift is `math.pi/2` (since `cos(x) = sin(x + pi/2)`).\n",
    "- For sine, the shift is `math.pi` (since `sin(x) = -sin(x + pi)`, but this demonstrates the nested call as required).\n",
    "- The returned function can be used to compute cos(x) or sin(x) for any x."
   ]
  },
  {
   "cell_type": "markdown",
   "id": "f9fd4daf",
   "metadata": {},
   "source": [
    "## Problem 3: Recursive Factorial\n",
    "Write a recursive function to find the factorial of n, where n is the input or argument to the function."
   ]
  },
  {
   "cell_type": "code",
   "execution_count": null,
   "id": "11bb7ab3",
   "metadata": {},
   "outputs": [],
   "source": [
    "# Solution code for Problem 3 goes here\n",
    "def factorial(n):\n",
    "    if n == 0 or n == 1:\n",
    "        return 1\n",
    "    return n * factorial(n-1)\n",
    "\n",
    "print(factorial(5))  # Output: 120"
   ]
  },
  {
   "cell_type": "markdown",
   "id": "1c9622c6",
   "metadata": {},
   "source": [
    "### Logic Explanation\n",
    "- The function calls itself with `n-1` until it reaches the base case (`n == 0` or `n == 1`).\n",
    "- Each call multiplies `n` by the factorial of `n-1`, building up the result recursively."
   ]
  },
  {
   "cell_type": "markdown",
   "id": "9f1b9207",
   "metadata": {},
   "source": [
    "## Problem 4: prefRevCapStr (Recursive String Prefix)\n",
    "Write the algorithm and python code for the following using a single recursive function: prefRevCapStr(), which prefixes a string with its capitalized reversal separated by an arrow (with a blank before and after the arrow):\n",
    "For example, prefRevCapStr(\"Diwali-to-come\") should return the string \"EMOC-OT-ILAWID -> Diwali-to-come\"."
   ]
  },
  {
   "cell_type": "code",
   "execution_count": null,
   "id": "d85cc9b8",
   "metadata": {},
   "outputs": [],
   "source": [
    "# Solution code for Problem 4\n",
    "def prefRevCapStr(s, i=0):\n",
    "    if i < len(s):\n",
    "        return prefRevCapStr(s, i+1) + s[i].upper()\n",
    "    else:\n",
    "        return \" -> \" + s\n",
    "\n",
    "# To get the correct output, call and slice off the arrow at the start\n",
    "result = prefRevCapStr(\"Diwali-to-come\")\n",
    "print(result[0:result.index('>')-1] + result[result.index('>')-1:])"
   ]
  },
  {
   "cell_type": "markdown",
   "id": "fba406b6",
   "metadata": {},
   "source": [
    "### Logic Explanation\n",
    "- The function recursively builds the reversed, capitalized string by traversing the string from left to right.\n",
    "- At the base case, it returns the arrow and the original string.\n",
    "- The recursion concatenates the capitalized characters in reverse order, then appends the arrow and original string, all inside the function."
   ]
  },
  {
   "cell_type": "markdown",
   "id": "25818537",
   "metadata": {},
   "source": [
    "## Problem 5: Recurrence and List Implementation\n",
    "### a) Recursive implementation for f(n) = f(n-1) + f(n-2), f(0)=1, f(1)=3"
   ]
  },
  {
   "cell_type": "code",
   "execution_count": 5,
   "id": "29bb313a",
   "metadata": {},
   "outputs": [
    {
     "name": "stdout",
     "output_type": "stream",
     "text": [
      "18\n"
     ]
    }
   ],
   "source": [
    "def f_recursive(n):\n",
    "    if n == 0:\n",
    "        return 1\n",
    "    elif n == 1:\n",
    "        return 3\n",
    "    return f_recursive(n-1) + f_recursive(n-2)\n",
    "\n",
    "print(f_recursive(5))\n"
   ]
  },
  {
   "cell_type": "markdown",
   "id": "a6986dd0",
   "metadata": {},
   "source": [
    "### Logic Explanation\n",
    "- The recursive implementation directly follows the mathematical definition of the sequence.\n",
    "- It has exponential time complexity due to redundant computations for the same values.\n",
    "\n",
    "### b) List implementation (no recursion)"
   ]
  },
  {
   "cell_type": "code",
   "execution_count": 7,
   "id": "5a388815",
   "metadata": {},
   "outputs": [
    {
     "name": "stdout",
     "output_type": "stream",
     "text": [
      "18\n"
     ]
    }
   ],
   "source": [
    "# Solution code for Problem 5b\n",
    "def f_list(n):\n",
    "    seq = [1, 3]\n",
    "    for i in range(2, n+1):\n",
    "        seq.append(seq[i-1] + seq[i-2])\n",
    "    return seq[n]\n",
    "\n",
    "print(f_list(5))"
   ]
  },
  {
   "cell_type": "markdown",
   "id": "6b3d1abf",
   "metadata": {},
   "source": [
    "### Logic Explanation\n",
    "- The list implementation iteratively computes each value of the sequence and stores it in a list.\n",
    "- It has linear time complexity, making it much faster for large n compared to the recursive version.\n",
    "\n",
    "### c) Which implementation is faster and why?"
   ]
  },
  {
   "cell_type": "markdown",
   "id": "f1c46297",
   "metadata": {},
   "source": [
    "## Problem 6: Bonus - Nested + Recursive Example\n",
    "Use your innovation to combine nested and recursive functions and solve a real life problem."
   ]
  },
  {
   "cell_type": "code",
   "execution_count": null,
   "id": "b98e75be",
   "metadata": {},
   "outputs": [],
   "source": [
    "# Solution code for Problem 6\n",
    "# Recursively traverse a list of lists and use a nested function to filter even numbers\n",
    "def filter_even_nested(lst):\n",
    "    def is_even(x):\n",
    "        return x % 2 == 0\n",
    "    result = []\n",
    "    for item in lst:\n",
    "        if isinstance(item, list):\n",
    "            result.extend(filter_even_nested(item))\n",
    "        elif is_even(item):\n",
    "            result.append(item)\n",
    "    return result\n",
    "\n",
    "nested_list = [1, [2, 3, [4, 5, 6]], 7, [8, 9]]\n",
    "print(filter_even_nested(nested_list))  # Output: [2, 4, 6, 8]"
   ]
  },
  {
   "cell_type": "markdown",
   "id": "e9fabce1",
   "metadata": {},
   "source": [
    "### Logic Explanation\n",
    "- The function recursively traverses a nested list structure.\n",
    "- A nested function is used to check if a number is even.\n",
    "- All even numbers from all levels of nesting are collected and returned in a flat list."
   ]
  }
 ],
 "metadata": {
  "kernelspec": {
   "display_name": "Python 3",
   "language": "python",
   "name": "python3"
  },
  "language_info": {
   "codemirror_mode": {
    "name": "ipython",
    "version": 3
   },
   "file_extension": ".py",
   "mimetype": "text/x-python",
   "name": "python",
   "nbconvert_exporter": "python",
   "pygments_lexer": "ipython3",
   "version": "3.12.3"
  }
 },
 "nbformat": 4,
 "nbformat_minor": 5
}
