{
 "cells": [
  {
   "cell_type": "code",
   "execution_count": 1,
   "id": "0a7a5654",
   "metadata": {},
   "outputs": [
    {
     "data": {
      "text/plain": [
       "2"
      ]
     },
     "execution_count": 1,
     "metadata": {},
     "output_type": "execute_result"
    }
   ],
   "source": [
    "2 or 3"
   ]
  },
  {
   "cell_type": "code",
   "execution_count": 31,
   "id": "d97385a1",
   "metadata": {},
   "outputs": [
    {
     "name": "stdout",
     "output_type": "stream",
     "text": [
      "3 is odd\n"
     ]
    }
   ],
   "source": [
    "n = 3\n",
    "c = n & 1\n",
    "if c == 1:\n",
    "    print(f\"{n} is odd\")\n",
    "else:\n",
    "    print(f\"{n} is even\")"
   ]
  },
  {
   "cell_type": "code",
   "execution_count": 33,
   "id": "8652222e",
   "metadata": {},
   "outputs": [
    {
     "data": {
      "text/plain": [
       "12"
      ]
     },
     "execution_count": 33,
     "metadata": {},
     "output_type": "execute_result"
    }
   ],
   "source": [
    "24>>1"
   ]
  },
  {
   "cell_type": "code",
   "execution_count": 37,
   "id": "8e4ef88e",
   "metadata": {},
   "outputs": [
    {
     "data": {
      "text/plain": [
       "3.375"
      ]
     },
     "execution_count": 37,
     "metadata": {},
     "output_type": "execute_result"
    }
   ],
   "source": [
    "27/8"
   ]
  },
  {
   "cell_type": "code",
   "execution_count": 38,
   "id": "1ad8ee74",
   "metadata": {},
   "outputs": [
    {
     "data": {
      "text/plain": [
       "3"
      ]
     },
     "execution_count": 38,
     "metadata": {},
     "output_type": "execute_result"
    }
   ],
   "source": [
    "27//8\n"
   ]
  },
  {
   "cell_type": "code",
   "execution_count": 3,
   "id": "28028713",
   "metadata": {},
   "outputs": [
    {
     "data": {
      "text/plain": [
       "1024"
      ]
     },
     "execution_count": 3,
     "metadata": {},
     "output_type": "execute_result"
    }
   ],
   "source": [
    "1<<10"
   ]
  },
  {
   "cell_type": "code",
   "execution_count": 2,
   "id": "2fe80e74",
   "metadata": {},
   "outputs": [
    {
     "data": {
      "text/plain": [
       "1048576"
      ]
     },
     "execution_count": 2,
     "metadata": {},
     "output_type": "execute_result"
    }
   ],
   "source": [
    "1<<20\n"
   ]
  },
  {
   "cell_type": "code",
   "execution_count": 4,
   "id": "5c56c3be",
   "metadata": {},
   "outputs": [
    {
     "data": {
      "text/plain": [
       "1024"
      ]
     },
     "execution_count": 4,
     "metadata": {},
     "output_type": "execute_result"
    }
   ],
   "source": [
    "2**10\n"
   ]
  },
  {
   "cell_type": "code",
   "execution_count": 5,
   "metadata": {},
   "outputs": [
    {
     "data": {
      "text/plain": [
       "1048576"
      ]
     },
     "execution_count": 5,
     "metadata": {},
     "output_type": "execute_result"
    }
   ],
   "source": [
    "2**20"
   ]
  },
  {
   "cell_type": "markdown",
   "id": "247a5fb6",
   "metadata": {},
   "source": [
    "Formula for converting binary no. to real no."
   ]
  },
  {
   "cell_type": "code",
   "execution_count": 13,
   "id": "3a8f84f2",
   "metadata": {},
   "outputs": [
    {
     "name": "stdout",
     "output_type": "stream",
     "text": [
      "13\n",
      "binary to decimal conversion is incorrect 13 0b1101\n"
     ]
    }
   ],
   "source": [
    "binary_str = input(\"enter your binary no.\")\n",
    "decimal = 0\n",
    "for i in range(len(binary_str)):\n",
    "    decimal += int(binary_str[i]) * 2 ** (len(binary_str) - i - 1)\n",
    "print(decimal)\n",
    "\n",
    "\n",
    "    "
   ]
  },
  {
   "cell_type": "code",
   "execution_count": 14,
   "id": "110a8ad4",
   "metadata": {},
   "outputs": [
    {
     "name": "stdout",
     "output_type": "stream",
     "text": [
      "-5 7\n",
      "1729 = 1^3 + 12^3 = 9^3 + 10^3\n",
      "1729 = 9^3 + 10^3 = 1^3 + 12^3\n"
     ]
    }
   ],
   "source": [
    "\n",
    "## 3. a. Print numbers -5 and 7 on the same line\n",
    "print(-5, 7)\n",
    "\n"
   ]
  },
  {
   "cell_type": "code",
   "execution_count": null,
   "id": "cd0cc5fa",
   "metadata": {},
   "outputs": [],
   "source": [
    "## 3. b. Hardy-Ramanujan Number (1729)\n",
    "import math\n",
    "for a1 in range(1, 16):\n",
    "    for b1 in range(a1+1, 16):\n",
    "        for a2 in range(1, 16):\n",
    "            for b2 in range(a2+1, 16):\n",
    "                if (a1, b1) != (a2, b2):\n",
    "                    sum1 = int(math.pow(a1,3) + math.pow(b1,3))\n",
    "                    sum2 = int(math.pow(a2,3) + math.pow(b2,3))\n",
    "                    if sum1 == 1729 and sum2 == 1729 and set([a1,b1]) != set([a2,b2]):\n",
    "                        print(f\"1729 = {a1}^3 + {b1}^3 = {a2}^3 + {b2}^3\")\n",
    "                        break\n",
    "            else:\n",
    "                continue\n",
    "            break\n",
    "        else:\n",
    "            continue\n",
    "        break"
   ]
  },
  {
   "cell_type": "code",
   "execution_count": null,
   "id": "9da4911d",
   "metadata": {},
   "outputs": [],
   "source": [
    "print(50-3*10, (50-3)*10)"
   ]
  },
  {
   "cell_type": "code",
   "execution_count": null,
   "id": "dab455af",
   "metadata": {},
   "outputs": [],
   "source": [
    "import math\n",
    "print(math.log2(4096))"
   ]
  },
  {
   "cell_type": "code",
   "execution_count": 15,
   "id": "be391f48",
   "metadata": {},
   "outputs": [
    {
     "name": "stdout",
     "output_type": "stream",
     "text": [
      "1.5 2.0\n"
     ]
    }
   ],
   "source": [
    "a = 2\n",
    "b = -7\n",
    "c = 6\n",
    "\n",
    "discriminant = b**2 - 4*a*c\n",
    "root1 = (-b + math.sqrt(discriminant)) / (2*a)\n",
    "root2 = (-b - math.sqrt(discriminant)) / (2*a)\n",
    "\n",
    "roots = sorted([root1, root2])\n",
    "print(roots[0], roots[1])"
   ]
  },
  {
   "cell_type": "code",
   "execution_count": null,
   "id": "4ecb13fc",
   "metadata": {},
   "outputs": [],
   "source": []
  },
  {
   "cell_type": "code",
   "execution_count": null,
   "id": "8af2f4c1",
   "metadata": {},
   "outputs": [],
   "source": [
    "# 5. a. Convert -14.125 to binary (IEEE 754 double-precision)\n",
    "import math\n",
    "\n",
    "number = -14.125\n",
    "sign_bit = 1 if number < 0 else 0\n",
    "abs_number = abs(number)\n",
    "\n",
    "# Get exponent and mantissa\n",
    "exponent = 0\n",
    "fraction = abs_number\n",
    "while fraction >= 2:\n",
    "    fraction /= 2\n",
    "    exponent += 1\n",
    "while fraction < 1:\n",
    "    fraction *= 2\n",
    "    exponent -= 1\n",
    "\n",
    "biased_exponent = exponent + 1023\n",
    "\n",
    "# Mantissa (fractional part after removing leading 1)\n",
    "fraction -= 1\n",
    "mantissa_bits = ''\n",
    "for _ in range(52):\n",
    "    fraction *= 2\n",
    "    if fraction >= 1:\n",
    "        mantissa_bits += '1'\n",
    "        fraction -= 1\n",
    "    else:\n",
    "        mantissa_bits += '0'\n",
    "\n",
    "binary_repr = f\"{sign_bit}{biased_exponent:011b}{mantissa_bits}\"\n",
    "print(\"Binary (IEEE 754 double) for -14.125:\", binary_repr)\n",
    "print(\"Length:\", len(binary_repr))\n",
    "\n",
    "# 5. b. Convert binary back to float and verify\n",
    "sign = int(binary_repr[0])\n",
    "exp = int(binary_repr[1:12], 2) - 1023\n",
    "mantissa = 1.0\n",
    "for i, bit in enumerate(binary_repr[12:]):\n",
    "    mantissa += int(bit) * 2 ** -(i + 1)\n",
    "restored = ((-1) ** sign) * mantissa * (2 ** exp)\n",
    "print(\"Restored float:\", restored)"
   ]
  }
 ],
 "metadata": {
  "kernelspec": {
   "display_name": "Python 3",
   "language": "python",
   "name": "python3"
  },
  "language_info": {
   "codemirror_mode": {
    "name": "ipython",
    "version": 3
   },
   "file_extension": ".py",
   "mimetype": "text/x-python",
   "name": "python",
   "nbconvert_exporter": "python",
   "pygments_lexer": "ipython3",
   "version": "3.12.3"
  }
 },
 "nbformat": 4,
 "nbformat_minor": 5
}
