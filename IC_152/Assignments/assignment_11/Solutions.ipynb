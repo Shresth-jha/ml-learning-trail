{
 "cells": [
  {
   "cell_type": "code",
   "execution_count": null,
   "id": "252dc80f",
   "metadata": {},
   "outputs": [],
   "source": [
    "class IC152:\n",
    "    def __init__(self, name, Rollno, attendance, marks, pass_flag):\n",
    "        self.name = name\n",
    "        self.Rollno = Rollno\n",
    "        self.attendance = attendance\n",
    "        self.marks = marks\n",
    "        self.pass_flag = pass_flag"
   ]
  }
 ],
 "metadata": {
  "language_info": {
   "name": "python"
  }
 },
 "nbformat": 4,
 "nbformat_minor": 5
}
