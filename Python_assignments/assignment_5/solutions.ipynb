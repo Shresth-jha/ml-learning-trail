{
 "cells": [
  {
   "cell_type": "markdown",
   "id": "9dac130b",
   "metadata": {},
   "source": [
    "## Problem 1: Mean of a List\n",
    "Write a python program to take a list of 10 numbers from the user and find the mean of the numbers in the input list. Print the output on the console/shell. You cannot use any inbuilt function for finding the mean, feel free to use other inbuilt functions."
   ]
  },
  {
   "cell_type": "code",
   "execution_count": null,
   "id": "d54b5aa6",
   "metadata": {},
   "outputs": [],
   "source": [
    "# Input 10 numbers from the user\n",
    "nums = []\n",
    "for i in range(10):\n",
    "    nums.append(float(input(f\"Enter number {i+1}: \")))\n",
    "# Calculate mean without using sum/mean\n",
    "total = 0\n",
    "for num in nums:\n",
    "    total += num\n",
    "mean = total / len(nums)\n",
    "print(\"Mean:\", mean)\n"
   ]
  },
  {
   "cell_type": "markdown",
   "id": "c16d730c",
   "metadata": {},
   "source": [
    "### Logic Explanation\n",
    "The code takes 10 numbers as input from the user, stores them in a list, and calculates the mean by manually summing the numbers in a loop and dividing by the count. No inbuilt mean or sum function is used."
   ]
  },
  {
   "cell_type": "markdown",
   "id": "10402833",
   "metadata": {},
   "source": [
    "## Problem 2: Median of a List\n",
    "Write a python program to take a list of 10 numbers from the user and find the median of the numbers in the input list. Print the output on the console/shell. In case of multiple medians you should print the range. You cannot use any inbuilt function for finding the median, feel free to use other inbuilt functions."
   ]
  },
  {
   "cell_type": "code",
   "execution_count": null,
   "id": "3a20be9c",
   "metadata": {},
   "outputs": [],
   "source": [
    "# Input 10 numbers from the user\n",
    "nums = []\n",
    "for i in range(10):\n",
    "    nums.append(float(input(f\"Enter number {i+1}: \")))\n",
    "# Sort the list\n",
    "nums_sorted = sorted(nums)\n",
    "n = len(nums_sorted)\n",
    "if n % 2 == 1:\n",
    "    median = nums_sorted[n//2]\n",
    "    print(\"Median:\", median)\n",
    "else:\n",
    "    m1 = nums_sorted[n//2 - 1]\n",
    "    m2 = nums_sorted[n//2]\n",
    "    if m1 == m2:\n",
    "        print(\"Median:\", m1)\n",
    "    else:\n",
    "        print(f\"Median range: {m1} to {m2}\")\n"
   ]
  },
  {
   "cell_type": "markdown",
   "id": "601a6731",
   "metadata": {},
   "source": [
    "### Logic Explanation\n",
    "The code takes 10 numbers as input, sorts them, and finds the median. If the list length is even and the two middle values differ, it prints the range between them. No inbuilt median function is used."
   ]
  },
  {
   "cell_type": "markdown",
   "id": "d0143c23",
   "metadata": {},
   "source": [
    "## Problem 3: Mean as Minimizer\n",
    "Show through the code that the mean is the minimizer of the sum S: Σ (x - xi)^2 for the example in problem 1, where xi represents each array element. Find S for different values of x, including the mean."
   ]
  },
  {
   "cell_type": "code",
   "execution_count": null,
   "id": "a298e25a",
   "metadata": {},
   "outputs": [],
   "source": [
    "# Use the same nums from Problem 1\n",
    "x_values = \n",
    "results = []\n",
    "for x in x_values:\n",
    "    S = 0\n",
    "    for xi in nums:\n",
    "        S += (x - xi) ** 2\n",
    "    results.append((x, S))\n",
    "print(\"x and corresponding S values:\")\n",
    "for x, S in results:\n",
    "    print(f\"x = {x}, S = {S}\")\n"
   ]
  },
  {
   "cell_type": "markdown",
   "id": "97d7796c",
   "metadata": {},
   "source": [
    "### Logic Explanation\n",
    "The code computes the sum S = Σ(x - xi)^2 for several values of x, including the mean. It shows that S is minimized when x equals the mean of the list."
   ]
  },
  {
   "cell_type": "markdown",
   "id": "38650ca5",
   "metadata": {},
   "source": [
    "## Problem 4: Median as Minimizer\n",
    "Show through code that the median is the minimizer of the sum S: Σ |x - xi| for the example in problem 2, where xi represents each array element. Find S for different values of x, including the median."
   ]
  },
  {
   "cell_type": "code",
   "execution_count": null,
   "id": "724ac1b5",
   "metadata": {},
   "outputs": [],
   "source": [
    "# Use the same nums from Problem 2\n",
    "x_values = [min(nums_sorted) - 2, min(nums_sorted), nums_sorted[len(nums_sorted)//2], max(nums_sorted), max(nums_sorted) + 2]\n",
    "results = []\n",
    "for x in x_values:\n",
    "    S = 0\n",
    "    for xi in nums_sorted:\n",
    "        S += abs(x - xi)\n",
    "    results.append((x, S))\n",
    "print(\"x and corresponding S values:\")\n",
    "for x, S in results:\n",
    "    print(f\"x = {x}, S = {S}\")\n"
   ]
  },
  {
   "cell_type": "markdown",
   "id": "6d4d2dd0",
   "metadata": {},
   "source": [
    "### Logic Explanation\n",
    "The code computes the sum S = Σ|x - xi| for several values of x, including the median. It shows that S is minimized when x equals the median of the list."
   ]
  },
  {
   "cell_type": "markdown",
   "id": "b50f296d",
   "metadata": {},
   "source": [
    "## Problem 5: Mean of Each Row in a 2D Array\n",
    "Write a python program to take a 2D array from the user in the form of a list and find the mean of each row. Print the output in the form of a list."
   ]
  },
  {
   "cell_type": "code",
   "execution_count": null,
   "id": "485da811",
   "metadata": {},
   "outputs": [],
   "source": [
    "def checkIntegersInList(myRowList):\n",
    "    for item in myRowList:\n",
    "        if not isinstance(item, (int, float)):\n",
    "            return False\n",
    "    return True\n",
    "\n",
    "def averageOfRow(myRowList):\n",
    "    if len(myRowList) > 0:\n",
    "        if checkIntegersInList(myRowList):\n",
    "            total = 0\n",
    "            for item in myRowList:\n",
    "                total += item\n",
    "            return total / len(myRowList)\n",
    "    return []\n",
    "\n",
    "# Example input\n",
    "inputList = [[1,2,3], [4,5,6], [7,8,9,10]]\n",
    "m = len(inputList)\n",
    "outputList = []\n",
    "for i in range(m):\n",
    "    mthRow = inputList[i]\n",
    "    avgi = averageOfRow(mthRow)\n",
    "    outputList.append(avgi)\n",
    "print(outputList)\n"
   ]
  },
  {
   "cell_type": "markdown",
   "id": "38678c23",
   "metadata": {},
   "source": [
    "### Logic Explanation\n",
    "The code defines a function to check if all elements in a row are numbers, then calculates the mean of each row by summing the elements manually and dividing by the row length. The means are collected in a list and printed."
   ]
  },
  {
   "cell_type": "markdown",
   "id": "edb696d4",
   "metadata": {},
   "source": [
    "## Problem 6: Correlation\n",
    "(a) Write a python code that takes 5 values of x and 5 values of y from the user in the form of a list and find the correlation using the formula given in the assignment."
   ]
  },
  {
   "cell_type": "code",
   "execution_count": null,
   "id": "905bece7",
   "metadata": {},
   "outputs": [],
   "source": [
    "# Input 5 values for x and y\n",
    "x = [float(input(f\"Enter x{i+1}: \")) for i in range(5)]\n",
    "y = [float(input(f\"Enter y{i+1}: \")) for i in range(5)]\n",
    "# Calculate means\n",
    "mean_x = sum(x)/5\n",
    "mean_y = sum(y)/5\n",
    "# Calculate numerator and denominator\n",
    "numerator = sum((x[i] - mean_x)*(y[i] - mean_y) for i in range(5))\n",
    "denominator = (sum((x[i] - mean_x)**2 for i in range(5)) * sum((y[i] - mean_y)**2 for i in range(5))) ** 0.5\n",
    "correlation = numerator / denominator if denominator != 0 else 0\n",
    "print(\"Correlation:\", correlation)\n"
   ]
  },
  {
   "cell_type": "markdown",
   "id": "6c849f0d",
   "metadata": {},
   "source": [
    "### Logic Explanation\n",
    "The code takes 5 values each for x and y, computes their means, and then calculates the correlation coefficient using the formula provided. The numerator is the sum of products of deviations, and the denominator is the product of the square roots of the sum of squared deviations."
   ]
  },
  {
   "cell_type": "markdown",
   "id": "008a302f",
   "metadata": {},
   "source": [
    "## Problem 6b: Correlation as Cosine\n",
    "Prove that the ratio of X.Y and |X||Y| is equal to r given in the above equation (X and Y are vectors defined in the starting of problem 6)."
   ]
  },
  {
   "cell_type": "code",
   "execution_count": null,
   "id": "1f3ef0a6",
   "metadata": {},
   "outputs": [],
   "source": [
    "# X and Y are mean-centered vectors\n",
    "X = [xi - mean_x for xi in x]\n",
    "Y = [yi - mean_y for yi in y]\n",
    "# Dot product\n",
    "dot_product = sum(X[i]*Y[i] for i in range(5))\n",
    "# Magnitudes\n",
    "mag_X = sum(Xi**2 for Xi in X) ** 0.5\n",
    "mag_Y = sum(Yi**2 for Yi in Y) ** 0.5\n",
    "cosine = dot_product / (mag_X * mag_Y) if mag_X != 0 and mag_Y != 0 else 0\n",
    "print(\"Cosine of angle between X and Y:\", cosine)\n"
   ]
  },
  {
   "cell_type": "markdown",
   "id": "34ff0bef",
   "metadata": {},
   "source": [
    "### Logic Explanation\n",
    "The code constructs mean-centered vectors X and Y, computes their dot product and magnitudes, and calculates the cosine of the angle between them. This value matches the correlation coefficient, showing the equivalence."
   ]
  },
  {
   "cell_type": "markdown",
   "id": "71ee5526",
   "metadata": {},
   "source": [
    "## Problem 6c: Correlation Verification\n",
    "With the same values given in part a by the user, find the correlation using the method given in part b, and verify that you are getting the same correlation as in part a."
   ]
  },
  {
   "cell_type": "code",
   "execution_count": null,
   "id": "3e75215e",
   "metadata": {},
   "outputs": [],
   "source": [
    "# Already computed in previous cells; just print both values for comparison\n",
    "print(\"Correlation (formula):\", correlation)\n",
    "print(\"Correlation (cosine):\", cosine)\n"
   ]
  },
  {
   "cell_type": "markdown",
   "id": "2d2cf8d9",
   "metadata": {},
   "source": [
    "### Logic Explanation\n",
    "The code prints both the correlation calculated using the formula and the cosine method, verifying that they are equal for the same data."
   ]
  }
 ],
 "metadata": {
  "language_info": {
   "name": "python"
  }
 },
 "nbformat": 4,
 "nbformat_minor": 5
}
