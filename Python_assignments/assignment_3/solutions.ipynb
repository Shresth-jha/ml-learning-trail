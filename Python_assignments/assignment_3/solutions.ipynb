{
 "cells": [
  {
   "cell_type": "markdown",
   "id": "2b402f6f",
   "metadata": {},
   "source": [
    "# Assignment 3 Solutions\n",
    "This notebook contains solutions to all problems from Assignment 3 as described in the instructions."
   ]
  },
  {
   "cell_type": "markdown",
   "id": "002567bd",
   "metadata": {},
   "source": [
    "## Problem 1: String and Character Analysis\n",
    "Write a program with user-defined functions to:\n",
    "- Check if a string contains only lowercase or only uppercase letters, or no letters at all.\n",
    "- Prompt for a day of the week and print the number of letters in the day name.\n",
    "- Prompt for three numbers and print their average."
   ]
  },
  {
   "cell_type": "code",
   "execution_count": null,
   "id": "f63a3435",
   "metadata": {},
   "outputs": [],
   "source": [
    "def analyze_text(text):\n",
    "    has_lower = any(c.islower() for c in text)\n",
    "    has_upper = any(c.isupper() for c in text)\n",
    "    if has_lower and not has_upper:\n",
    "        print(\"The text contains only lowercase letters.\")\n",
    "    elif has_upper and not has_lower:\n",
    "        print(\"The text contains only uppercase letters.\")\n",
    "    elif not has_lower and not has_upper:\n",
    "        print(\"The text contains no letters.\")\n",
    "    else:\n",
    "        print(\"The text contains both uppercase and lowercase letters.\")\n",
    "\n",
    "def count_day_letters(day_name):\n",
    "    print(f\"The number of letters in {day_name} is {len(day_name)}.\")\n",
    "\n",
    "def get_input():\n",
    "    return float(input(\"Enter a number: \"))\n",
    "\n",
    "def calculate_average(a, b, c):\n",
    "    return (a + b + c) / 3\n",
    "\n",
    "def print_output(avg):\n",
    "    print(f\"The average is: {avg}\")\n",
    "\n",
    "# Part a-c: Analyze text\n",
    "text = input(\"Enter some text: \")\n",
    "analyze_text(text)\n",
    "\n",
    "# Part d: Day name\n",
    "day_name = input(\"Enter the name of a day of the week: \")\n",
    "count_day_letters(day_name)\n",
    "\n",
    "# Part e: Average of three numbers\n",
    "a = get_input()\n",
    "b = get_input()\n",
    "c = get_input()\n",
    "avg = calculate_average(a, b, c)\n",
    "print_output(avg)"
   ]
  },
  {
   "cell_type": "markdown",
   "id": "61c310ab",
   "metadata": {},
   "source": [
    "This code provides user-defined functions to analyze a string for letter case, count the number of letters in a day name, and compute the average of three numbers, as required in Problem 1."
   ]
  },
  {
   "cell_type": "markdown",
   "id": "27d7db70",
   "metadata": {},
   "source": [
    "## Problem 2: String Manipulation and Analysis\n",
    "Write user-defined functions to:\n",
    "- Check if a string is a palindrome.\n",
    "- Count the number of vowels in a string.\n",
    "- Replace all spaces in a string with underscores.\n",
    "- Count the number of words in a string."
   ]
  },
  {
   "cell_type": "code",
   "execution_count": null,
   "id": "68d51527",
   "metadata": {},
   "outputs": [],
   "source": [
    "def is_palindrome(s):\n",
    "    s_clean = ''.join(c.lower() for c in s if c.isalnum())\n",
    "    return s_clean == s_clean[::-1]\n",
    "\n",
    "def count_vowels(s):\n",
    "    vowels = 'aeiouAEIOU'\n",
    "    return sum(1 for c in s if c in vowels)\n",
    "\n",
    "def replace_spaces(s):\n",
    "    return s.replace(' ', '_')\n",
    "\n",
    "def count_words(s):\n",
    "    return len(s.split())\n",
    "\n",
    "# Example usage:\n",
    "string = input(\"Enter a string for Problem 2: \")\n",
    "print(\"Palindrome\" if is_palindrome(string) else \"Not a palindrome\")\n",
    "print(f\"Number of vowels: {count_vowels(string)}\")\n",
    "print(f\"String with spaces replaced: {replace_spaces(string)}\")\n",
    "print(f\"Number of words: {count_words(string)}\")"
   ]
  },
  {
   "cell_type": "markdown",
   "id": "8f4168de",
   "metadata": {},
   "source": [
    "This code defines and demonstrates functions for palindrome checking, vowel counting, replacing spaces with underscores, and word counting, as required in Problem 2."
   ]
  },
  {
   "cell_type": "markdown",
   "id": "0da2c40f",
   "metadata": {},
   "source": [
    "## Problem 3: Perfect Numbers\n",
    "Write a function that takes the following inputs [6, 2, 20, 496, 30, 8128, 500, 1000, 33550336, 999983] and displays whether they are perfect numbers or not."
   ]
  },
  {
   "cell_type": "code",
   "execution_count": null,
   "id": "d9736cd9",
   "metadata": {},
   "outputs": [
    {
     "name": "stdout",
     "output_type": "stream",
     "text": [
      "6 is not a perfect number\n",
      "6 is not a perfect number\n",
      "2 is not a perfect number\n",
      "20 is not a perfect number\n",
      "20 is not a perfect number\n",
      "20 is not a perfect number\n",
      "496 is not a perfect number\n",
      "496 is not a perfect number\n",
      "496 is not a perfect number\n",
      "496 is not a perfect number\n",
      "496 is not a perfect number\n",
      "30 is not a perfect number\n",
      "30 is not a perfect number\n",
      "30 is not a perfect number\n",
      "30 is not a perfect number\n",
      "8128 is not a perfect number\n",
      "8128 is not a perfect number\n",
      "8128 is not a perfect number\n",
      "8128 is not a perfect number\n",
      "8128 is not a perfect number\n",
      "8128 is not a perfect number\n",
      "8128 is not a perfect number\n",
      "500 is not a perfect number\n",
      "500 is not a perfect number\n",
      "500 is not a perfect number\n",
      "500 is not a perfect number\n",
      "500 is not a perfect number\n",
      "500 is not a perfect number\n",
      "1000 is not a perfect number\n",
      "1000 is not a perfect number\n",
      "1000 is not a perfect number\n",
      "1000 is not a perfect number\n",
      "1000 is not a perfect number\n",
      "1000 is not a perfect number\n",
      "1000 is not a perfect number\n",
      "1000 is not a perfect number\n",
      "33550336 is not a perfect number\n",
      "33550336 is not a perfect number\n",
      "33550336 is not a perfect number\n",
      "33550336 is not a perfect number\n",
      "33550336 is not a perfect number\n",
      "33550336 is not a perfect number\n",
      "33550336 is not a perfect number\n",
      "33550336 is not a perfect number\n",
      "33550336 is not a perfect number\n",
      "33550336 is not a perfect number\n",
      "33550336 is not a perfect number\n",
      "33550336 is not a perfect number\n",
      "33550336 is not a perfect number\n",
      "999983 is not a perfect number\n"
     ]
    }
   ],
   "source": [
    "def is_perfect_number(n):\n",
    "    \"\"\"Check if a number is a perfect number.\"\"\"\n",
    "    if n < 2:\n",
    "        return False\n",
    "    total = 1\n",
    "    for i in range(2, int(n ** 0.5) + 1):\n",
    "        if n % i == 0:\n",
    "            total += i\n",
    "            if i != n // i:\n",
    "                total += n // i\n",
    "    return total == n\n",
    "\n",
    "x = [6, 2, 20, 496, 30, 8128, 500, 1000, 33550336, 999983]\n",
    "for num in x:\n",
    "    if is_perfect_number(num):\n",
    "        print(f\"{num} is a perfect number\")\n",
    "    else:\n",
    "        print(f\"{num} is not a perfect number\")"
   ]
  },
  {
   "cell_type": "markdown",
   "id": "3f58be28",
   "metadata": {},
   "source": [
    "This code defines a function to check if a number is perfect and then checks each number in the list, printing the result for each."
   ]
  },
  {
   "cell_type": "markdown",
   "id": "19f49777",
   "metadata": {},
   "source": [
    "## Problem 4: Pattern Printing\n",
    "Write user-defined functions with for and while loops to display patterns."
   ]
  },
  {
   "cell_type": "code",
   "execution_count": null,
   "id": "93457d52",
   "metadata": {},
   "outputs": [],
   "source": [
    "def inverted_triangle_for(n):\n",
    "    for i in range(n):\n",
    "        print(' ' * i + '* ' * (n - i))\n",
    "\n",
    "def inverted_triangle_while(n):\n",
    "    i = 0\n",
    "    while i < n:\n",
    "        print(' ' * i + '* ' * (n - i))\n",
    "        i += 1\n",
    "\n",
    "def alphabet_triangle(n):\n",
    "    for i in range(1, n + 1):\n",
    "        row = ' '.join([chr(65 + j) for j in range(i)])\n",
    "        print(row)\n",
    "\n",
    "n = int(input(\"q4 part a input (integer): \"))\n",
    "print(\"Inverted Triangle using for loop:\")\n",
    "inverted_triangle_for(n)\n",
    "print(\"\\nInverted Triangle using while loop:\")\n",
    "inverted_triangle_while(n)\n",
    "n2 = int(input(\"q4 part b input (integer): \"))\n",
    "print(\"Alphabet Triangle:\")\n",
    "alphabet_triangle(n2)"
   ]
  },
  {
   "cell_type": "markdown",
   "id": "7f0389c3",
   "metadata": {},
   "source": [
    "This code defines and demonstrates functions for printing an inverted triangle (using both for and while loops) and an alphabet triangle pattern."
   ]
  },
  {
   "cell_type": "markdown",
   "id": "559268f8",
   "metadata": {},
   "source": [
    "## Problem 5: Task Analyzer Functions\n",
    "Combining user-defined functions, loops, and conditionals for various tasks."
   ]
  },
  {
   "cell_type": "code",
   "execution_count": null,
   "id": "6bbe0499",
   "metadata": {},
   "outputs": [],
   "source": [
    "def is_palindrome(word):\n",
    "    return word == word[::-1]\n",
    "\n",
    "def even_or_odd():\n",
    "    while True:\n",
    "        val = input(\"task B input positive number: \")\n",
    "        try:\n",
    "            n = int(val)\n",
    "            if n < 0:\n",
    "                print(\"integer is not positive\")\n",
    "                continue\n",
    "            print(\"even\" if n % 2 == 0 else \"odd\")\n",
    "            break\n",
    "        except ValueError:\n",
    "            print(\"not an integer\")\n",
    "\n",
    "def alphabet_only(word):\n",
    "    if word.isalpha():\n",
    "        print(\"Alphabet only\")\n",
    "    else:\n",
    "        print(\"Contains non-alphabetic characters.\")\n",
    "\n",
    "def longest_word(sentence):\n",
    "    words = sentence.split()\n",
    "    if not words:\n",
    "        return ''\n",
    "    return max(words, key=len)\n",
    "\n",
    "def count_words(phrase):\n",
    "    words = phrase.split()\n",
    "    return len(words)\n",
    "\n",
    "# Task A\n",
    "word = input(\"task A input word: \")\n",
    "print(\"Palindrome\" if is_palindrome(word) else \"Not a Palindrome\")\n",
    "# Task B\n",
    "even_or_odd()\n",
    "# Task C\n",
    "word2 = input(\"task C input word: \")\n",
    "alphabet_only(word2)\n",
    "# Task D\n",
    "sentence = input(\"task D input sentence: \")\n",
    "print(\"Longest word:\", longest_word(sentence))\n",
    "# Task E\n",
    "phrase = input(\"task E input phrase: \")\n",
    "print(\"Number of words:\", count_words(phrase))"
   ]
  },
  {
   "cell_type": "markdown",
   "id": "3fb14872",
   "metadata": {},
   "source": [
    "This code defines and demonstrates functions for palindrome checking, even/odd checking, alphabet validation, finding the longest word, and counting words, all using user input as described in the assignment."
   ]
  }
 ],
 "metadata": {
  "kernelspec": {
   "display_name": "Python 3",
   "language": "python",
   "name": "python3"
  },
  "language_info": {
   "codemirror_mode": {
    "name": "ipython",
    "version": 3
   },
   "file_extension": ".py",
   "mimetype": "text/x-python",
   "name": "python",
   "nbconvert_exporter": "python",
   "pygments_lexer": "ipython3",
   "version": "3.12.3"
  }
 },
 "nbformat": 4,
 "nbformat_minor": 5
}
